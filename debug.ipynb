{
 "cells": [
  {
   "cell_type": "code",
   "execution_count": 17,
   "id": "167e1a0f-813c-4db5-8094-7c9458c5ad3f",
   "metadata": {},
   "outputs": [],
   "source": [
    "import yaml\n",
    "import argparse"
   ]
  },
  {
   "cell_type": "code",
   "execution_count": 13,
   "id": "2ee8a1dd-8e69-420a-9c9e-b65aaca7084e",
   "metadata": {},
   "outputs": [],
   "source": [
    "config = yaml.load(open('conf/conf.yaml', 'r'), Loader=yaml.FullLoader)"
   ]
  },
  {
   "cell_type": "code",
   "execution_count": 14,
   "id": "98a3b37c-343c-4ab0-8117-8d224ce7b0ea",
   "metadata": {},
   "outputs": [
    {
     "data": {
      "text/plain": [
       "{'Data_setup': {'path': 'C:\\\\Users\\\\wanglab\\\\Desktop\\\\Zhe-chen\\\\EBS1_B2SD\\\\data_allp',\n",
       "  'data_file': 'data_allp.npz',\n",
       "  'subjects': [1, 2, 3]},\n",
       " 'NN_setup': {'n_rnn_layers': 3, 'rnn_dim': 256, 'dropout': 0.2},\n",
       " 'Training_setup': {'learning_rate': 0.001, 'batch_size': 8, 'epochs': 150}}"
      ]
     },
     "execution_count": 14,
     "metadata": {},
     "output_type": "execute_result"
    }
   ],
   "source": [
    "config"
   ]
  },
  {
   "cell_type": "code",
   "execution_count": 15,
   "id": "a84647d9-cd37-4cf6-9997-b282be44fcd2",
   "metadata": {},
   "outputs": [
    {
     "data": {
      "text/plain": [
       "'C:\\\\Users\\\\wanglab\\\\Desktop\\\\Zhe-chen\\\\EBS1_B2SD\\\\data_allp'"
      ]
     },
     "execution_count": 15,
     "metadata": {},
     "output_type": "execute_result"
    }
   ],
   "source": [
    "config['Data_setup']['path']"
   ]
  },
  {
   "cell_type": "code",
   "execution_count": 16,
   "id": "e24b1e84-52ba-47ed-94fa-37a22d67e495",
   "metadata": {},
   "outputs": [
    {
     "data": {
      "text/plain": [
       "[1, 2, 3]"
      ]
     },
     "execution_count": 16,
     "metadata": {},
     "output_type": "execute_result"
    }
   ],
   "source": [
    "config['Data_setup']['subjects']"
   ]
  },
  {
   "cell_type": "code",
   "execution_count": 18,
   "id": "e7f51f49-54d5-458f-8690-7c882bd136a4",
   "metadata": {},
   "outputs": [],
   "source": [
    "parser = argparse.ArgumentParser()"
   ]
  },
  {
   "cell_type": "code",
   "execution_count": 19,
   "id": "88084677-c421-44fb-8bca-6e82c8cfef16",
   "metadata": {},
   "outputs": [
    {
     "data": {
      "text/plain": [
       "ArgumentParser(prog='ipykernel_launcher.py', usage=None, description=None, formatter_class=<class 'argparse.HelpFormatter'>, conflict_handler='error', add_help=True)"
      ]
     },
     "execution_count": 19,
     "metadata": {},
     "output_type": "execute_result"
    }
   ],
   "source": [
    "parser"
   ]
  },
  {
   "cell_type": "code",
   "execution_count": null,
   "id": "f95b4074-4f82-41af-8fe9-2412d14448ff",
   "metadata": {},
   "outputs": [],
   "source": []
  }
 ],
 "metadata": {
  "kernelspec": {
   "display_name": "Python 3 (ipykernel)",
   "language": "python",
   "name": "python3"
  },
  "language_info": {
   "codemirror_mode": {
    "name": "ipython",
    "version": 3
   },
   "file_extension": ".py",
   "mimetype": "text/x-python",
   "name": "python",
   "nbconvert_exporter": "python",
   "pygments_lexer": "ipython3",
   "version": "3.10.4"
  }
 },
 "nbformat": 4,
 "nbformat_minor": 5
}
